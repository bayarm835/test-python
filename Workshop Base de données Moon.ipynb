{
 "cells": [
  {
   "cell_type": "code",
   "execution_count": 6,
   "metadata": {},
   "outputs": [
    {
     "name": "stdout",
     "output_type": "stream",
     "text": [
      "Entrez les informations pour le client 1:\n",
      "Informations pour client 1:\n",
      "['AGU', 'PATRICK', 'M', 3000]\n",
      "Entrez les informations pour le client 2:\n",
      "Informations pour client 2:\n",
      "['JANAS', 'BARTOSZ', 'M', 2000]\n",
      "Entrez les informations pour le client 3:\n",
      "Informations pour client 3:\n",
      "['BAYARCHULUUN', 'MUNKHERDENE', 'M', 1500]\n",
      "Entrez les informations pour le client 4:\n",
      "Informations pour client 4:\n",
      "['BONNIN', 'PHILIPPE', 'M', 4500]\n",
      "Entrez les informations pour le client 5:\n",
      "Informations pour client 5:\n",
      "['CARREY', 'RAPHAEL', 'M', 5000]\n",
      "Entrez les informations pour le client 6:\n",
      "Informations pour client 6:\n",
      "['CHELEDNIK', 'ALEXANDRE', 'M', 3500]\n",
      "Entrez les informations pour le client 7:\n",
      "Informations pour client 7:\n",
      "['CHIKRI', 'HASSAN', 'M', 2500]\n",
      "Entrez les informations pour le client 8:\n",
      "Informations pour client 8:\n",
      "['DESSOLIN', 'THIBAUT', 'M', 4000]\n",
      "Entrez les informations pour le client 9:\n",
      "Informations pour client 9:\n",
      "['LAKHDAR EZZINE', 'HADJER', 'F', 1000]\n",
      "Entrez les informations pour le client 10:\n",
      "Informations pour client 10:\n",
      "['MEUNIER', 'ALEXIS', 'M', 3000]\n",
      "Entrez les informations pour le client 11:\n",
      "Informations pour client 11:\n",
      "['MOHAMED', 'AHMED', 'M', 2500]\n",
      "Entrez les informations pour le client 12:\n",
      "Informations pour client 12:\n",
      "['SADOUN', 'SALAH', 'M', 6000]\n",
      "Entrez les informations pour le client 13:\n",
      "Informations pour client 13:\n",
      "['THEUREAU', 'PAUL', 'M', 4500]\n"
     ]
    }
   ],
   "source": [
    "attributs = ['nom', 'prenom', 'sexe', 'solde']\n",
    "\n",
    "# Création d'un dictionnaire pour stocker les clients individuels\n",
    "clients = {}\n",
    "\n",
    "# Récupération des données de tous les clients en utilisant une boucle\n",
    "for i in range(13):\n",
    "    client = []  # Liste pour stocker les informations du client\n",
    "    print(f\"Entrez les informations pour le client {i + 1}:\")\n",
    "    \n",
    "    for attribut in attributs:\n",
    "        valeur = input(f\"Entrez {attribut.capitalize()} du client : \")\n",
    "        if attribut == 'solde':\n",
    "            valeur = int(valeur)  # Conversion en entier pour l'attribut 'solde'\n",
    "        client.append(valeur)\n",
    "    \n",
    "    print(f\"Informations pour client {i + 1}:\")\n",
    "    print(client)\n",
    "    \n",
    "    # Assignation du client individuel à une variable nommée (client1, client2, etc.)\n",
    "    clients[f\"client{i + 1}\"] = client\n"
   ]
  },
  {
   "cell_type": "code",
   "execution_count": 104,
   "metadata": {},
   "outputs": [
    {
     "name": "stdout",
     "output_type": "stream",
     "text": [
      "Le solde actuel est de  2000.0  euro\n",
      "Veuillez entrer une valeur différente de zéro.\n"
     ]
    }
   ],
   "source": [
    "choisir_client = input(\"Entrez la référence du client à modifier (exemple : client10) : \")\n",
    "\n",
    "if choisir_client in clients:\n",
    "    solde_choisi = clients[choisir_client][3]\n",
    "    print(\"Le solde actuel est de \", float(solde_choisi), \" euro\")\n",
    "    solde_a_modifier = float(input(\"Entrez la somme à ajouter ou à soustraire (-xx/xx) : \"))\n",
    "    \n",
    "    # Vérifie si l'entrée n'est pas égale à zéro\n",
    "    if solde_a_modifier != 0:\n",
    "        nouveau_solde = solde_choisi + solde_a_modifier\n",
    "        clients[choisir_client][3] = nouveau_solde\n",
    "        print(\"Le nouveau solde est de\", float(nouveau_solde), \"euro\")\n",
    "    else:\n",
    "        print(\"Veuillez entrer une valeur différente de zéro.\")\n",
    "else:\n",
    "    print(\"Client introuvable.\")\n",
    "\n"
   ]
  },
  {
   "cell_type": "code",
   "execution_count": 103,
   "metadata": {},
   "outputs": [
    {
     "name": "stdout",
     "output_type": "stream",
     "text": [
      "La somme des soldes est de :  45000.0  euro\n"
     ]
    }
   ],
   "source": [
    "somme_des_soldes = 0\n",
    "for client_key, client_info in clients.items():\n",
    "    solde_client = client_info[3]  # Accéder au solde à l'indice 3 dans la liste d'informations du client\n",
    "    somme_des_soldes = somme_des_soldes + client_info[3] \n",
    "print(\"La somme des soldes est de : \", somme_des_soldes, \" euro\")\n",
    "\n",
    "\n",
    "\n",
    "\n"
   ]
  },
  {
   "cell_type": "code",
   "execution_count": 102,
   "metadata": {},
   "outputs": [
    {
     "name": "stdout",
     "output_type": "stream",
     "text": [
      "2000\n"
     ]
    }
   ],
   "source": [
    "j = input(\"Entrez le numero du client\")\n",
    "print(clients['client' + str(j)][3] )\n",
    "\n"
   ]
  },
  {
   "cell_type": "code",
   "execution_count": 100,
   "metadata": {},
   "outputs": [
    {
     "name": "stdout",
     "output_type": "stream",
     "text": [
      "Il y a 1 femme(s) et 13 homme(s) parmi les clients.\n"
     ]
    }
   ],
   "source": [
    "femmes = 0\n",
    "hommes = 0\n",
    "\n",
    "for client in clients.values():\n",
    "    # Assurez-vous que la liste client est complète et contient au moins 3 éléments\n",
    "    if len(client) >= 3:\n",
    "        # Vérifie si la troisième valeur correspond à 'F' ou 'M' pour compter les femmes et les hommes\n",
    "        if client[2] == 'F':\n",
    "            femmes += 1\n",
    "        elif client[2] == 'M':\n",
    "            hommes += 1\n",
    "        else:\n",
    "            print(\"La troisième valeur ne correspond ni à 'F' ni à 'M'\")\n",
    "    else:\n",
    "        print(\"La liste ne contient pas au moins 3 éléments\")\n",
    "\n",
    "print(\"Il y a\", femmes, \"femme(s) et\", hommes, \"homme(s) parmi les clients.\")\n",
    "\n",
    "\n",
    "\n",
    "\n",
    "\n"
   ]
  },
  {
   "cell_type": "code",
   "execution_count": 99,
   "metadata": {},
   "outputs": [
    {
     "name": "stdout",
     "output_type": "stream",
     "text": [
      "{'client1': ['AGU', 'PATRICK', 'M', 3000], 'client2': ['JANAS', 'BARTOSZ', 'M', 2000], 'client3': ['BAYARCHULUUN', 'MUNKHERDENE', 'M', 1500], 'client4': ['BONNIN', 'PHILIPPE', 'M', 4500.0], 'client5': ['CARREY', 'RAPHAEL', 'M', 5000], 'client6': ['CHELEDNIK', 'ALEXANDRE', 'M', 3500], 'client7': ['CHIKRI', 'HASSAN', 'M', 2500], 'client8': ['DESSOLIN', 'THIBAUT', 'M', 4000], 'client9': ['LAKHDAR EZZINE', 'HADJER', 'F', 1000], 'client10': ['MEUNIER', 'ALEXIS', 'M', 3000], 'client11': ['MOHAMED', 'AHMED', 'M', 2500], 'client12': ['SADOUN', 'SALAH', 'M', 6000], 'client13': ['THEUREAU', 'PAUL', 'M', 4500], 'client14': ['KURDY', 'BASSAM', 'M', 2000]}\n"
     ]
    }
   ],
   "source": [
    "client14 = ['KURDY', 'BASSAM','M', 2000]\n",
    "\n",
    "clients['client14'] = client14\n",
    "\n",
    "print(clients)"
   ]
  },
  {
   "cell_type": "code",
   "execution_count": 106,
   "metadata": {},
   "outputs": [
    {
     "name": "stdout",
     "output_type": "stream",
     "text": [
      "Factorielle de  5  est de  120\n"
     ]
    }
   ],
   "source": [
    "factorielle = int(input(\"Entrez votre nombre : \"))\n",
    "x = 1\n",
    "y = 1\n",
    "while x != factorielle:\n",
    "    x = x + 1\n",
    "    y = y * x\n",
    "print(\"Factorielle de \", factorielle, \" est de \", y)"
   ]
  }
 ],
 "metadata": {
  "kernelspec": {
   "display_name": "Python 3",
   "language": "python",
   "name": "python3"
  },
  "language_info": {
   "codemirror_mode": {
    "name": "ipython",
    "version": 3
   },
   "file_extension": ".py",
   "mimetype": "text/x-python",
   "name": "python",
   "nbconvert_exporter": "python",
   "pygments_lexer": "ipython3",
   "version": "3.11.6"
  }
 },
 "nbformat": 4,
 "nbformat_minor": 2
}
