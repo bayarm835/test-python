{
 "cells": [
  {
   "cell_type": "markdown",
   "metadata": {},
   "source": [
    "# Booléens et les conditions"
   ]
  },
  {
   "cell_type": "markdown",
   "metadata": {},
   "source": [
    "\n",
    "Python a un type de variable appelé bool. Il a deux valeurs possibles: True (1) ou False (0)."
   ]
  },
  {
   "cell_type": "code",
   "execution_count": 2,
   "metadata": {},
   "outputs": [
    {
     "name": "stdout",
     "output_type": "stream",
     "text": [
      "True\n",
      "<class 'bool'>\n"
     ]
    }
   ],
   "source": [
    "x = True\n",
    "print(x)\n",
    "print(type(x))"
   ]
  },
  {
   "cell_type": "markdown",
   "metadata": {},
   "source": [
    "Plutôt que de mettre True ou False directement dans notre code, nous obtenons généralement des valeurs booléennes des opérateurs booléens. Ce sont des opérateurs qui répondent oui / non aux questions. Nous allons passer en revue certains de ces opérateurs ci-dessous."
   ]
  },
  {
   "cell_type": "markdown",
   "metadata": {},
   "source": [
    "a == b\ta égale b\n",
    "\n",
    "a != b\ta différent de b\n",
    "\n",
    "a < b\ta inférieur à b\t\t\n",
    "\n",
    "a > b\ta supérieur à b\n",
    "\n",
    "a <= b\ta inférieur ou egal à b\t\t\n",
    "\n",
    "a >= b\ta supérieur ou égal à b"
   ]
  },
  {
   "cell_type": "code",
   "execution_count": 3,
   "metadata": {},
   "outputs": [
    {
     "name": "stdout",
     "output_type": "stream",
     "text": [
      "Est-ce qu'une personne de 17 ans peut conduire une voiture? False\n",
      "Est-ce qu'une personne de 19 ans peut conduire une voiture? True\n"
     ]
    }
   ],
   "source": [
    "#voici un exemple dans une fonction\n",
    "def peut_conduire_voiture (age):\n",
    "    \"\"\"Est-ce que la personne est assez agée pour pouvoir conduire une voiture\"\"\"\n",
    "    \n",
    "    return age >= 18\n",
    "\n",
    "print(\"Est-ce qu'une personne de 17 ans peut conduire une voiture?\", peut_conduire_voiture(17))\n",
    "print(\"Est-ce qu'une personne de 19 ans peut conduire une voiture?\", peut_conduire_voiture(19))"
   ]
  },
  {
   "cell_type": "markdown",
   "metadata": {},
   "source": [
    "Les comparaisons fonctionnent souvent comme attendu\n"
   ]
  },
  {
   "cell_type": "code",
   "execution_count": 4,
   "metadata": {},
   "outputs": [
    {
     "data": {
      "text/plain": [
       "True"
      ]
     },
     "execution_count": 4,
     "metadata": {},
     "output_type": "execute_result"
    }
   ],
   "source": [
    "3.0 == 3"
   ]
  },
  {
   "cell_type": "markdown",
   "metadata": {},
   "source": [
    "mais pas tout le temps\n"
   ]
  },
  {
   "cell_type": "code",
   "execution_count": 5,
   "metadata": {},
   "outputs": [
    {
     "data": {
      "text/plain": [
       "False"
      ]
     },
     "execution_count": 5,
     "metadata": {},
     "output_type": "execute_result"
    }
   ],
   "source": [
    "'3' == 3"
   ]
  },
  {
   "cell_type": "markdown",
   "metadata": {},
   "source": [
    "\n",
    "Les opérateurs de comparaison peuvent être combinés avec les opérateurs arithmétiques que nous avons déjà vus pour exprimer une gamme pratiquement illimitée de tests mathématiques. Par exemple, nous pouvons vérifier si un nombre est impair en vérifiant que le reste de la division par 2 est égale à 1:"
   ]
  },
  {
   "cell_type": "code",
   "execution_count": 15,
   "metadata": {},
   "outputs": [
    {
     "name": "stdout",
     "output_type": "stream",
     "text": [
      "est-ce que 100 est impair? False\n",
      "est-ce que 103 est impair? True\n"
     ]
    }
   ],
   "source": [
    "def est_impair(a):\n",
    "    if a % 2 == 1:\n",
    "        return True  # Retourne True si le nombre est impair\n",
    "    else:\n",
    "        return False  # Retourne False si le nombre est pair\n",
    "\n",
    "print(\"est-ce que 100 est impair?\", est_impair(100))\n",
    "print(\"est-ce que 103 est impair?\", est_impair(103))\n",
    "\n",
    "\n"
   ]
  },
  {
   "cell_type": "code",
   "execution_count": 11,
   "metadata": {},
   "outputs": [
    {
     "name": "stdout",
     "output_type": "stream",
     "text": [
      "est-ce que 100 est impair? False\n",
      "est-ce que 103 est impair? True\n"
     ]
    }
   ],
   "source": [
    "#testez la fonction \n",
    "\n",
    "print(\"est-ce que 100 est impair?\", est_impair(100))\n",
    "print(\"est-ce que 103 est impair?\", est_impair(103))"
   ]
  },
  {
   "cell_type": "markdown",
   "metadata": {},
   "source": [
    "\n",
    "N'oubliez pas d'utiliser == au lieu de = lors des comparaisons. Si vous écrivez n == 2, vous demandez si la valeur de n est égale à 2. Lorsque vous écrivez n = 2, vous modifiez la valeur de n."
   ]
  },
  {
   "cell_type": "markdown",
   "metadata": {},
   "source": [
    "# Combinaison de valeurs booléennes"
   ]
  },
  {
   "cell_type": "markdown",
   "metadata": {},
   "source": [
    "\n",
    "Vous pouvez combiner des valeurs booléennes en utilisant les concepts standard de \"et\", \"ou\" et \"non\". Les mots à utiliser sont: and, or, et not.\n",
    "\n",
    "Avec ceux-ci, nous pouvons rendre notre fonction peut_conduire_voiture (age) plus précise."
   ]
  },
  {
   "cell_type": "code",
   "execution_count": 20,
   "metadata": {},
   "outputs": [
    {
     "name": "stdout",
     "output_type": "stream",
     "text": [
      "Est-ce qu'une personne de 17 ans sans permis peut conduire une voiture? False\n",
      "Est-ce qu'une personne de 99 ans avec permis peut conduire une voiture? True\n",
      "Est-ce qu'une personne de 23 ans sans permis peut conduire une voiture? False\n"
     ]
    }
   ],
   "source": [
    "#modifiez la fonction peut_conduire_voiture (age) en ajoutant le paramètre booléen avec_permis\n",
    "def peut_conduire_voiture (age, avec_permis):\n",
    "    \"\"\"Est-ce que la personne est assez agée pour pouvoir conduire une voiture\"\"\"\n",
    "    \n",
    "    return age >= 18 and avec_permis \n",
    "\n",
    "print(\"Est-ce qu'une personne de 17 ans sans permis peut conduire une voiture?\", peut_conduire_voiture(17,False))\n",
    "print(\"Est-ce qu'une personne de 99 ans avec permis peut conduire une voiture?\", peut_conduire_voiture(99,True))\n",
    "print(\"Est-ce qu'une personne de 23 ans sans permis peut conduire une voiture?\", peut_conduire_voiture(23,False))"
   ]
  },
  {
   "cell_type": "code",
   "execution_count": 21,
   "metadata": {},
   "outputs": [
    {
     "name": "stdout",
     "output_type": "stream",
     "text": [
      "Est-ce qu'une personne de 17 ans sans permis peut conduire une voiture? False\n",
      "Est-ce qu'une personne de 99 ans avec permis peut conduire une voiture? True\n",
      "Est-ce qu'une personne de 23 ans sans permis peut conduire une voiture? False\n"
     ]
    }
   ],
   "source": [
    "#testez\n",
    "def peut_conduire_voiture (age, avec_permis):\n",
    "    \"\"\"Est-ce que la personne est assez agée pour pouvoir conduire une voiture\"\"\"\n",
    "    \n",
    "    return age >= 18 and avec_permis \n",
    "    \n",
    "print(\"Est-ce qu'une personne de 17 ans sans permis peut conduire une voiture?\", peut_conduire_voiture(17,False))\n",
    "print(\"Est-ce qu'une personne de 99 ans avec permis peut conduire une voiture?\", peut_conduire_voiture(99,True))\n",
    "print(\"Est-ce qu'une personne de 23 ans sans permis peut conduire une voiture?\", peut_conduire_voiture(23,False))"
   ]
  },
  {
   "cell_type": "markdown",
   "metadata": {},
   "source": [
    "pouvez-vous deviner la valeur de cette expression?"
   ]
  },
  {
   "cell_type": "code",
   "execution_count": 22,
   "metadata": {},
   "outputs": [
    {
     "data": {
      "text/plain": [
       "True"
      ]
     },
     "execution_count": 22,
     "metadata": {},
     "output_type": "execute_result"
    }
   ],
   "source": [
    "True or True and False"
   ]
  },
  {
   "cell_type": "markdown",
   "metadata": {},
   "source": [
    "Pour répondre à cela, vous devez déterminer l'ordre des opérations.\n",
    "\n",
    "Par exemple, and est évalué avant or. C'est pourquoi la première expression ci-dessus est True. Si nous l'évaluions de gauche à droite, nous aurions calculé True ou True en premier (ce qui est vrai), puis pris le and de ce résultat avec False, donnant une valeur finale de False.\n",
    "\n",
    "Vous pouvez essayer de mémoriser l'ordre de priorité, mais un pari plus sûr consiste simplement à utiliser des parenthèses libérales. Non seulement cela aide à prévenir les bogues, mais il rend vos intentions plus claires pour quiconque lit votre code.\n",
    "\n",
    "Par exemple, considérez l'expression suivante:"
   ]
  },
  {
   "cell_type": "code",
   "execution_count": 42,
   "metadata": {},
   "outputs": [
    {
     "name": "stdout",
     "output_type": "stream",
     "text": [
      "True\n"
     ]
    }
   ],
   "source": [
    "#testez l'expression ci-dessous en attribuant des valeurs de type bool pour tous à l'exception de pluie_intensite qui sera un int\n",
    "def pret_pour_meteo(avec_parapluie, pluie_level, avec_capuch, pluie_intensite, est_jour_de_travail):\n",
    "    pret_pour_meteo = avec_parapluie or (pluie_level < 5 and avec_capuch) or not (pluie_intensite > 0 and est_jour_de_travail)\n",
    "    return pret_pour_meteo  \n",
    "\n",
    "# Appel de la fonction et impression du résultat\n",
    "resultat = pret_pour_meteo(True, 2, False, 0, True)\n",
    "print(resultat)\n",
    "\n",
    "\n",
    "\n",
    "\n"
   ]
  },
  {
   "cell_type": "markdown",
   "metadata": {},
   "source": [
    "J'essaie de dire que je suis à l'abri du temps d'aujourd'hui ...\n",
    "\n",
    "si j'ai un parapluie ...\n",
    "ou si la pluie n'est pas trop forte et que j'ai une capuche ...\n",
    "sinon je vais bien sauf s'il pleut et c'est une journée de travail\n",
    "\n",
    "Mais non seulement mon code Python est difficile à lire, mais il a un bug. Nous pouvons résoudre ces deux problèmes en ajoutant des parenthèses:"
   ]
  },
  {
   "cell_type": "code",
   "execution_count": null,
   "metadata": {},
   "outputs": [],
   "source": [
    "#corrigez ici l'expression\n",
    "def pret_pour_meteo(avec_parapluie, pluie_level, avec_capuch, pluie_intensite, est_jour_de_travail):\n",
    "    pret_pour_meteo = avec_parapluie or (pluie_level < 5 and avec_capuch) or not (pluie_intensite > 0 and est_jour_de_travail)\n",
    "    return pret_pour_meteo  \n",
    "\n",
    "# Appel de la fonction et impression du résultat\n",
    "resultat = pret_pour_meteo(True, 2, False, 0, True)\n",
    "print(resultat)\n"
   ]
  },
  {
   "cell_type": "markdown",
   "metadata": {},
   "source": [
    "# Les conditions\n"
   ]
  },
  {
   "cell_type": "markdown",
   "metadata": {},
   "source": [
    "\n",
    "Les booléens sont plus utiles lorsqu'ils sont combinés avec des instructions conditionnelles, en utilisant les mots-clés if, elif et else.\n",
    "\n",
    "Les instructions conditionnelles vous permettent de contrôler les éléments de code qui sont exécutés en fonction de la valeur d'une condition booléenne. Voici un exemple:"
   ]
  },
  {
   "cell_type": "code",
   "execution_count": 43,
   "metadata": {},
   "outputs": [
    {
     "name": "stdout",
     "output_type": "stream",
     "text": [
      "0 est zero\n",
      "-15 est negatif\n"
     ]
    }
   ],
   "source": [
    "def inspect(x):\n",
    "    if x == 0:\n",
    "        print(x, \"est zero\")\n",
    "    elif x > 0:\n",
    "        print(x, \"est positif\")\n",
    "    elif x < 0:\n",
    "        print(x, \"est negatif\")\n",
    "    else:\n",
    "        print(x, \"je ne sais pas\")\n",
    "\n",
    "inspect(0)\n",
    "inspect(-15)\n"
   ]
  },
  {
   "cell_type": "markdown",
   "metadata": {},
   "source": [
    "Les mots clés if et else sont souvent utilisés dans d'autres languages; le mot-clé elif est plus spécifique à python , c'est une contraction de \"else if\". Dans ces clauses conditionnelles, les blocs elif et else sont facultatifs; en outre, vous pouvez inclure autant de déclarations elif que vous le souhaitez.\n",
    "\n",
    "Notez en particulier l'utilisation des deux-points (:) et des espaces pour désigner des blocs de code séparés. Ceci est similaire à ce qui se passe lorsque nous définissons une fonction - l'en-tête de fonction se termine par (:), et la ligne suivante est en retrait de 4 espaces. Toutes les lignes indentées suivantes appartiennent au corps de la fonction, jusqu'à ce que nous rencontrions une ligne non indentée, mettant fin à la définition de la fonction."
   ]
  },
  {
   "cell_type": "code",
   "execution_count": 44,
   "metadata": {},
   "outputs": [
    {
     "name": "stdout",
     "output_type": "stream",
     "text": [
      "Only printed when x is positive; x = 1\n",
      "Also only printed when x is positive; x = 1\n",
      "Always printed, regardless of x's value; x = 1\n",
      "Always printed, regardless of x's value; x = 0\n"
     ]
    }
   ],
   "source": [
    "def f(x):\n",
    "    if x > 0:\n",
    "        print(\"Only printed when x is positive; x =\", x)\n",
    "        print(\"Also only printed when x is positive; x =\", x)\n",
    "    print(\"Always printed, regardless of x's value; x =\", x)\n",
    "\n",
    "f(1)\n",
    "f(0)"
   ]
  },
  {
   "cell_type": "markdown",
   "metadata": {},
   "source": [
    "# Boolean conversion\n"
   ]
  },
  {
   "cell_type": "markdown",
   "metadata": {},
   "source": [
    "Nous avons vu int (), qui transforme les choses en entiers, et float (), qui transforme les choses en flottants, donc vous ne serez peut-être pas surpris d'entendre que Python a une fonction bool () qui transforme les choses en bools."
   ]
  },
  {
   "cell_type": "code",
   "execution_count": 45,
   "metadata": {},
   "outputs": [
    {
     "name": "stdout",
     "output_type": "stream",
     "text": [
      "True\n",
      "False\n",
      "True\n",
      "False\n"
     ]
    }
   ],
   "source": [
    "print (bool (1)) # tous les nombres sont traités comme vrais, sauf 0\n",
    "print (bool (0))\n",
    "print (bool (\"asf\")) # toutes les chaînes sont traitées comme vraies, sauf la chaîne vide \"\"\n",
    "print (bool (\"\"))\n",
    "# Séquences généralement vides (chaînes, listes et autres types que nous n'avons pas encore vus comme des listes et des tuples)\n",
    "# sont \"falsey\" et les autres sont \"véridiques\""
   ]
  },
  {
   "cell_type": "markdown",
   "metadata": {},
   "source": [
    "Nous pouvons utiliser des objets non booléens dans conditions if où un booléen est attendu. Python les traitera implicitement comme leur valeur booléenne correspondante:"
   ]
  },
  {
   "cell_type": "code",
   "execution_count": 46,
   "metadata": {},
   "outputs": [
    {
     "name": "stdout",
     "output_type": "stream",
     "text": [
      "spam\n"
     ]
    }
   ],
   "source": [
    "if 0:\n",
    "    print(0)\n",
    "elif \"spam\":\n",
    "    print(\"spam\")"
   ]
  },
  {
   "cell_type": "markdown",
   "metadata": {},
   "source": [
    "# Exercices"
   ]
  },
  {
   "cell_type": "markdown",
   "metadata": {},
   "source": [
    "\n",
    "De nombreux langages de programmation ont une fonction \"sign\" intégrée. Ce n'est pas le cas de python, mais nous pouvons définir la nôtre!\n",
    "\n",
    "Dans la cellule ci-dessous, définissez une fonction appelée signe qui prend un argument numérique et renvoie -1 si elle est négative, 1 si elle est positive et 0 si elle est 0. N'oubliez pas la docstring"
   ]
  },
  {
   "cell_type": "code",
   "execution_count": 48,
   "metadata": {},
   "outputs": [
    {
     "name": "stdout",
     "output_type": "stream",
     "text": [
      "Le nombre est positif\n"
     ]
    },
    {
     "data": {
      "text/plain": [
       "0"
      ]
     },
     "execution_count": 48,
     "metadata": {},
     "output_type": "execute_result"
    }
   ],
   "source": [
    "#Codez la fonction signe ici\n",
    "def signe (a):\n",
    "    if a > 0:\n",
    "        print(\"Le nombre est positif\")\n",
    "    elif a < 0:\n",
    "        print(\"Le nombre est négatif\")\n",
    "    else:\n",
    "        print(\"O\")\n",
    "    return 0\n",
    "signe(19)"
   ]
  },
  {
   "cell_type": "markdown",
   "metadata": {},
   "source": [
    "Nous avons décidé d'ajouter la «journalisation» à notre fonction to_smash de l'exercice précédent."
   ]
  },
  {
   "cell_type": "code",
   "execution_count": 1,
   "metadata": {},
   "outputs": [],
   "source": [
    "def a_briser(total_bonbons,n_amis):\n",
    "    \"\"\"Retourne le nombre de bonbons restants après la distribution\n",
    "    de total_bonbons uniformément entre n_amis.\n",
    "    \n",
    "    >>> a_briser(91,3)\n",
    "    1\n",
    "    \"\"\"\n",
    "    print(\"briser\", total_bonbons, \"bonbons\")\n",
    "    return total_bonbons % n_amis"
   ]
  },
  {
   "cell_type": "markdown",
   "metadata": {},
   "source": [
    "Que se passe-t-il pour total_bonbons = 1"
   ]
  },
  {
   "cell_type": "code",
   "execution_count": 11,
   "metadata": {},
   "outputs": [
    {
     "name": "stdout",
     "output_type": "stream",
     "text": [
      "briser 1 bonbons\n"
     ]
    },
    {
     "data": {
      "text/plain": [
       "1"
      ]
     },
     "execution_count": 11,
     "metadata": {},
     "output_type": "execute_result"
    }
   ],
   "source": [
    "#testez\n",
    "def a_briser(total_bonbons,n_amis):\n",
    "    \"\"\"Retourne le nombre de bonbons restants après la distribution\n",
    "    de total_bonbons uniformément entre n_amis.\"\"\"\n",
    "    \n",
    "    \n",
    "    \n",
    "    print(\"briser\", total_bonbons, \"bonbons\")\n",
    "    return total_bonbons % n_amis\n",
    "a_briser(1,3)\n",
    "\n",
    "\n"
   ]
  },
  {
   "cell_type": "markdown",
   "metadata": {},
   "source": [
    "\n",
    "Ouh la grosse coquille!\n",
    "\n",
    "Modifiez la définition dans la cellule ci-dessous pour corriger la grammaire de notre print. "
   ]
  },
  {
   "cell_type": "code",
   "execution_count": 13,
   "metadata": {},
   "outputs": [
    {
     "name": "stdout",
     "output_type": "stream",
     "text": [
      "91  bonbons  a distribuer\n"
     ]
    },
    {
     "data": {
      "text/plain": [
       "1"
      ]
     },
     "execution_count": 13,
     "metadata": {},
     "output_type": "execute_result"
    }
   ],
   "source": [
    "#corriger le code\n",
    "def a_briser(total_bonbons,n_amis):\n",
    "    \"\"\"Retourne le nombre de bonbons restants après la distribution\n",
    "    de total_bonbons uniformément entre n_amis.\n",
    "    \n",
    "    >>> a_briser(91,3)\n",
    "    1\n",
    "    \"\"\"\n",
    "    print(total_bonbons,  \" bonbons\", \" a distribuer\",)\n",
    "    return total_bonbons % n_amis\n",
    "a_briser(91,3)"
   ]
  },
  {
   "cell_type": "markdown",
   "metadata": {},
   "source": [
    "\n",
    "Plus haut, nous avons parlé de décider si nous sommes prêts pour la météo. J'ai dit que je suis à l'abri du temps d'aujourd'hui si ...\n",
    "\n",
    "J'ai un parapluie ...\n",
    "\n",
    "ou si la pluie n'est pas trop forte et que j'ai une capuche ...\n",
    "\n",
    "sinon je vais bien sauf s'il pleut et c'est une journée de travail\n",
    "\n",
    "La fonction ci-dessous utilise notre première tentative pour transformer cette logique en une expression Python. J'ai affirmé qu'il y avait un bug dans ce code. Peux-tu le trouver?\n",
    "\n",
    "Pour prouver que prepare_for_weather est bogué, proposez un ensemble d'entrées où:\n",
    "\n",
    "la fonction renvoie False (mais aurait dû renvoyer True), ou\n",
    "la fonction a renvoyé True (mais aurait dû retourner False).\n"
   ]
  },
  {
   "cell_type": "code",
   "execution_count": 20,
   "metadata": {},
   "outputs": [
    {
     "name": "stdout",
     "output_type": "stream",
     "text": [
      "True\n"
     ]
    }
   ],
   "source": [
    "def pret_pour_meteo(avec_parapluie, pluie_intensite, avec_capuche,pluie_level, est_jour_de_travail):\n",
    "    pret_pour_meteo = avec_parapluie or pluie_intensite < 5 and avec_capuche or not pluie_level > 0 and est_jour_de_travail\n",
    "    print(pret_pour_meteo)\n",
    "pret_pour_meteo(True,5,False,1,True)\n"
   ]
  },
  {
   "cell_type": "code",
   "execution_count": 22,
   "metadata": {},
   "outputs": [
    {
     "name": "stdout",
     "output_type": "stream",
     "text": [
      "True\n"
     ]
    }
   ],
   "source": [
    "def pret_pour_meteo(avec_parapluie, pluie_intensite, avec_capuche, est_jour_de_travail):\n",
    "    # Ne modifiez pas ce code. Notre objectif est simplement de trouver le bug, pas de le corriger!\n",
    "    return avec_parapluie or pluie_intensite < 5 and avec_capuche or not pluie_intensite > 0 and est_jour_de_travail\n",
    "\n",
    "# Modifiez les valeurs de ces entrées afin qu'elles représentent un cas où pret_pour_meteo\n",
    "# renvoie la mauvaise réponse.\n",
    "avec_parapluie = False\n",
    "pluie_intensite = 0.0\n",
    "avec_capuche = True\n",
    "est_jour_de_travail = True\n",
    "\n",
    "# Vérifiez ce que la fonction retourne étant donné les valeurs actuelles des variables ci-dessus\n",
    "actuel = pret_pour_meteo(avec_parapluie, pluie_intensite, avec_capuche, est_jour_de_travail)\n",
    "print(actuel)\n",
    "\n"
   ]
  },
  {
   "cell_type": "markdown",
   "metadata": {},
   "source": [
    "La fonction is_negative ci-dessous est implémentée correctement - elle retourne True si le nombre donné est négatif et False sinon.\n",
    "\n",
    "Cependant, elle est plus verbeuse qu'il ne devrait l'être. Nous pouvons réellement réduire le nombre de lignes de code dans cette fonction de 75% tout en conservant le même comportement.\n",
    "\n",
    "Pouvez-vous trouver un corps équivalent qui utilise une seule ligne de code et mettez-le dans la fonction concise_is_negative. "
   ]
  },
  {
   "cell_type": "code",
   "execution_count": 27,
   "metadata": {},
   "outputs": [
    {
     "data": {
      "text/plain": [
       "True"
      ]
     },
     "execution_count": 27,
     "metadata": {},
     "output_type": "execute_result"
    }
   ],
   "source": [
    "\"\"\"def is_negative(number):\n",
    "    if number < 0:\n",
    "        return True\n",
    "    else:\n",
    "        return False\"\"\"\n",
    "\n",
    "def concise_is_negative(number):\n",
    "    return number < 0\n",
    "    pass # Your code goes here (try to keep it to one line!)\n",
    "concise_is_negative(-3)\n"
   ]
  },
  {
   "cell_type": "markdown",
   "metadata": {},
   "source": [
    "\n",
    "Pour chacune des fonctions restantes, remplissez le corps pour correspondre à la description dans la docstring."
   ]
  },
  {
   "cell_type": "code",
   "execution_count": 29,
   "metadata": {},
   "outputs": [
    {
     "data": {
      "text/plain": [
       "False"
      ]
     },
     "execution_count": 29,
     "metadata": {},
     "output_type": "execute_result"
    }
   ],
   "source": [
    "def wants_all_toppings(ketchup, mustard, onion):\n",
    "    \"\"\"Indiquez si le client souhaite les 3 garnitures\n",
    "    \"\"\"\n",
    "    pass\n",
    "    return (ketchup and mustard and onion)\n",
    "wants_all_toppings(True,True,False)\n",
    "\n",
    "# Check your answer\n",
    "#q5.a.check()"
   ]
  },
  {
   "cell_type": "code",
   "execution_count": 30,
   "metadata": {},
   "outputs": [
    {
     "data": {
      "text/plain": [
       "False"
      ]
     },
     "execution_count": 30,
     "metadata": {},
     "output_type": "execute_result"
    }
   ],
   "source": [
    "def wants_plain_hotdog(ketchup, mustard, onion):\n",
    "    \"\"\"Indiquez si le client veut un hot-dog ordinaire sans garniture\n",
    "    \"\"\"\n",
    "    pass\n",
    "    return(ketchup or  mustard or onion)\n",
    "wants_plain_hotdog(False,False,False)"
   ]
  },
  {
   "cell_type": "code",
   "execution_count": 39,
   "metadata": {},
   "outputs": [
    {
     "data": {
      "text/plain": [
       "True"
      ]
     },
     "execution_count": 39,
     "metadata": {},
     "output_type": "execute_result"
    }
   ],
   "source": [
    "def exactly_one_sauce(ketchup, mustard,):\n",
    "    \"\"\"Indiquez si le client souhaite du ketchup ou de la moutarde, mais pas les deux.\n",
    "    (Vous connaissez peut-être cette opération sous le nom \"exclusif ou\")\n",
    "    \"\"\"\n",
    "    pass\n",
    "    return (ketchup and not mustard) or (mustard and not ketchup) \n",
    "exactly_one_sauce(True,False)"
   ]
  },
  {
   "cell_type": "markdown",
   "metadata": {},
   "source": [
    "Nous avons vu que l'appel de `bool ()` sur un entier renvoie `False` s'il est égal à 0 et` True` sinon. Que se passe-t-il si nous appelons `int ()` sur un bool? Essayez-le dans la cellule ci-dessous.\n",
    "\n"
   ]
  },
  {
   "cell_type": "code",
   "execution_count": 47,
   "metadata": {},
   "outputs": [
    {
     "ename": "TypeError",
     "evalue": "int() argument must be a string, a bytes-like object or a real number, not 'function'",
     "output_type": "error",
     "traceback": [
      "\u001b[1;31m---------------------------------------------------------------------------\u001b[0m",
      "\u001b[1;31mTypeError\u001b[0m                                 Traceback (most recent call last)",
      "\u001b[1;32mc:\\Users\\moon\\Downloads\\Booléens et les conditions (1).ipynb Cellule 54\u001b[0m line \u001b[0;36m4\n\u001b[0;32m      <a href='vscode-notebook-cell:/c%3A/Users/moon/Downloads/Bool%C3%A9ens%20et%20les%20conditions%20%281%29.ipynb#Y104sZmlsZQ%3D%3D?line=1'>2</a>\u001b[0m \u001b[39mdef\u001b[39;00m \u001b[39mbooleen\u001b[39m(oui):\n\u001b[0;32m      <a href='vscode-notebook-cell:/c%3A/Users/moon/Downloads/Bool%C3%A9ens%20et%20les%20conditions%20%281%29.ipynb#Y104sZmlsZQ%3D%3D?line=2'>3</a>\u001b[0m     \u001b[39mreturn\u001b[39;00m(\u001b[39mint\u001b[39m(booleen))\n\u001b[1;32m----> <a href='vscode-notebook-cell:/c%3A/Users/moon/Downloads/Bool%C3%A9ens%20et%20les%20conditions%20%281%29.ipynb#Y104sZmlsZQ%3D%3D?line=3'>4</a>\u001b[0m booleen(\u001b[39mTrue\u001b[39;49;00m)\n",
      "\u001b[1;32mc:\\Users\\moon\\Downloads\\Booléens et les conditions (1).ipynb Cellule 54\u001b[0m line \u001b[0;36m3\n\u001b[0;32m      <a href='vscode-notebook-cell:/c%3A/Users/moon/Downloads/Bool%C3%A9ens%20et%20les%20conditions%20%281%29.ipynb#Y104sZmlsZQ%3D%3D?line=1'>2</a>\u001b[0m \u001b[39mdef\u001b[39;00m \u001b[39mbooleen\u001b[39m(oui):\n\u001b[1;32m----> <a href='vscode-notebook-cell:/c%3A/Users/moon/Downloads/Bool%C3%A9ens%20et%20les%20conditions%20%281%29.ipynb#Y104sZmlsZQ%3D%3D?line=2'>3</a>\u001b[0m     \u001b[39mreturn\u001b[39;00m(\u001b[39mint\u001b[39;49m(booleen))\n",
      "\u001b[1;31mTypeError\u001b[0m: int() argument must be a string, a bytes-like object or a real number, not 'function'"
     ]
    }
   ],
   "source": [
    "# int() sur un bool\n",
    "def booleen(oui):\n",
    "    return(int(booleen))\n",
    "booleen(True)\n",
    "\n"
   ]
  },
  {
   "cell_type": "markdown",
   "metadata": {},
   "source": [
    "Pouvez-vous en profiter pour écrire une fonction succincte qui correspond à la phrase  \"le client veut-il exactement une garniture?\"?"
   ]
  },
  {
   "cell_type": "code",
   "execution_count": 49,
   "metadata": {},
   "outputs": [
    {
     "data": {
      "text/plain": [
       "True"
      ]
     },
     "execution_count": 49,
     "metadata": {},
     "output_type": "execute_result"
    }
   ],
   "source": [
    "def exactly_one_topping(ketchup, mustard, onion):\n",
    "    \"\"\"Indiquez si le client souhaite exactement l'une des trois garnitures disponibles\n",
    "    sur leur hot dog.\n",
    "    \"\"\"\n",
    "    pass\n",
    "    return(ketchup or mustard or onion)\n",
    "exactly_one_topping(False,False,True)"
   ]
  },
  {
   "cell_type": "markdown",
   "metadata": {},
   "source": [
    "Dans ce problème, nous travaillerons avec une version simplifiée du blackjack (alias 21). Dans cette version, il y a un joueur (que vous contrôlerez) et un croupier. Le jeu se déroule comme suit:\n",
    "\n",
    "    Le joueur reçoit deux cartes face visible. Le croupier reçoit une carte face visible.\n",
    "\n",
    "    Le joueur peut demander à recevoir une autre carte («hit») autant de fois qu'il le souhaite. Si la somme de ses cartes dépasse 21, il perd immédiatement la manche.\n",
    "\n",
    "Le croupier se donne ensuite des cartes supplémentaires jusqu'à ce que:\n",
    "\n",
    "    soit la somme des cartes du croupier dépasse 21, auquel cas le joueur gagne la manche\n",
    "\n",
    "    soit la somme des cartes du croupier est supérieure ou égale à 17. \n",
    "        Si le total du joueur est supérieur au croupier, le joueur gagne. \n",
    "        Sinon, le croupier gagne (même en cas d'égalité).\n",
    "\n",
    "Lors du calcul de la somme des cartes, Jack, Queen et King comptent pour 10. Les as peuvent compter comme 1 ou 11 (quand on se réfère au \"total\" d'un joueur ci-dessus, nous voulons dire le plus grand total qui peut être fait sans dépasser 21. Donc par exemple A + 8 = 19, A + 8 + 8 = 17)\n",
    "\n",
    "Pour ce problème, vous allez écrire une fonction représentant la stratégie de prise de décision du joueur dans ce jeu. Nous avons fourni une implémentation très peu intelligente ci-dessous:"
   ]
  },
  {
   "cell_type": "code",
   "execution_count": null,
   "metadata": {},
   "outputs": [],
   "source": [
    "def should_hit(dealer_total, player_total, player_low_aces, player_high_aces):\n",
    "    return(dealer_total <= 21 and player_total <=11 , 1, 11)\n",
    "\n",
    "    \"\"\"Retourne True si le joueur doit \"hit\" (demander une autre carte) étant donné la partie en cours\n",
    "    , ou False si le joueur ne doit pas ajouter de carte.\n",
    "    Lors du calcul de la valeur totale d'une main, nous comptons les as comme \"élevés\" (avec la valeur 11) si cela\n",
    "    ne porte pas le total au-dessus de 21, sinon nous les comptons comme faibles (avec la valeur 1).\n",
    "    Par exemple, si la main du joueur est {A, A, A, 7}, nous la compterons comme 11 + 1 + 1 + 7,\n",
    "    et donc définir player_total = 20, player_low_aces = 2, player_high_aces = 1.\n",
    "    \"\"\"\n",
    "    return False\n",
    "\n"
   ]
  },
  {
   "cell_type": "markdown",
   "metadata": {},
   "source": [
    "TP"
   ]
  },
  {
   "cell_type": "markdown",
   "metadata": {},
   "source": [
    "Sujet\n",
    "\n",
    "Le but de notre programme est de déterminer si une année saisie par l'utilisateur est bissextile. Il s'agit d'un sujet très prisé des enseignants en informatique quand il s'agit d'expliquer les conditions. Mille pardons, donc, à ceux qui ont déjà fait cet exercice dans un autre langage mais je trouve que ce petit programme reprend assez de thèmes abordés dans ce chapitre pour être réellement intéressant.\n",
    "\n",
    "Je vous rappelle les règles qui déterminent si une année est bissextile ou non (vous allez peut-être même apprendre des choses que le commun des mortels ignore).\n",
    "\n",
    "Une année est dite bissextile si c'est un multiple de 4, sauf si c'est un multiple de 100. Toutefois, elle est considérée comme bissextile si c'est un multiple de 400. Je développe :\n",
    "\n",
    "Si une année n'est pas multiple de 4, on s'arrête là, elle n'est pas bissextile.\n",
    "\n",
    "Si elle est multiple de 4, on regarde si elle est multiple de 100.\n",
    "\n",
    "    Si c'est le cas, on regarde si elle est multiple de 400.\n",
    "\n",
    "        Si c'est le cas, l'année est bissextile.\n",
    "\n",
    "        Sinon, elle n'est pas bissextile.\n",
    "\n",
    "    Sinon, elle est bissextile."
   ]
  },
  {
   "cell_type": "markdown",
   "metadata": {},
   "source": [
    "Solution ou résolution\n",
    "\n",
    "\n",
    "Voilà. Le problème est posé clairement (sinon relisez attentivement l'énoncé autant de fois que nécessaire), il faut maintenant réfléchir à sa résolution en termes de programmation. C'est une phase de transition assez délicate de prime abord et je vous conseille de schématiser le problème, de prendre des notes sur les différentes étapes, sans pour l'instant penser au code. C'est une phase purement algorithmique, autrement dit, on réfléchit au programme sans réfléchir au code proprement dit.\n",
    "\n",
    "Vous aurez besoin, pour réaliser ce petit programme, de quelques indications qui sont réellement spécifiques à Python. Ne lisez donc ceci qu'après avoir cerné et clairement écrit le problème d'une façon plus algorithmique. Cela étant dit, si vous peinez à trouver une solution, ne vous y attardez pas. Cette phase de réflexion est assez difficile au début et, parfois il suffit d'un peu de pratique et d'explications pour comprendre l'essentiel.\n",
    "\n",
    "La fonctioninput()\n",
    "\n",
    "Tout d'abord, j'ai mentionné une année saisie par l'utilisateur. En effet, depuis tout à l'heure, nous testons des variables que nous déclarons nous-mêmes, avec une valeur précise. La condition est donc assez ridicule.\n",
    "\n",
    "input()est une fonction qui va, pour nous, caractériser nos premières interactions avec l'utilisateur : le programme réagira différemment en fonction du nombre saisi par l'utilisateur.\n",
    "\n",
    "input()accepte un paramètre facultatif : le message à afficher à l'utilisateur. Cette instruction interrompt le programme et attend que l'utilisateur saisisse ce qu'il veut puis appuie sur Entrée. À cet instant, la fonction renvoie ce que l'utilisateur a saisi. Il faut donc piéger cette valeur dans une variable."
   ]
  },
  {
   "cell_type": "code",
   "execution_count": 50,
   "metadata": {},
   "outputs": [
    {
     "name": "stdout",
     "output_type": "stream",
     "text": [
      "34\n"
     ]
    }
   ],
   "source": [
    "# Test de la fonction input\n",
    "annee = input(\"Saisissez une année : \")\n",
    "print(annee)\n"
   ]
  },
  {
   "cell_type": "markdown",
   "metadata": {},
   "source": [
    "quelle est le type de la variable annee?"
   ]
  },
  {
   "cell_type": "code",
   "execution_count": 51,
   "metadata": {},
   "outputs": [],
   "source": [
    "#déterminez le type de annee\n",
    "annee = int(annee)"
   ]
  },
  {
   "cell_type": "code",
   "execution_count": 54,
   "metadata": {},
   "outputs": [],
   "source": [
    "#comment le transformer pour pouvoir le manipuler plus facilement ? \n",
    "def annee(a):\n",
    "    return(int(input(a)))"
   ]
  },
  {
   "cell_type": "markdown",
   "metadata": {},
   "source": [
    "Test de multiples\n",
    "\n",
    "Certains pourraient également se demander comment tester si un nombre a est multiple d'un nombre b. Il suffit, en fait, de tester le reste de la division entière de b par a. Si ce reste est nul, alors a est un multiple de b."
   ]
  },
  {
   "cell_type": "code",
   "execution_count": 60,
   "metadata": {},
   "outputs": [
    {
     "name": "stdout",
     "output_type": "stream",
     "text": [
      "L'annee est bissextile\n"
     ]
    }
   ],
   "source": [
    "# programme pour déterminer si une année saisie par l'utilisateur est bissextile, Let's go !\n",
    "\n",
    "annee = int(input(\"Entrez l'année  : \"))\n",
    "\n",
    "if annee% 400 == 0:\n",
    "    print(\"L'annee est bissextile\")\n",
    "elif annee% 4 == 0 and annee% 100 != 0:\n",
    "    print(\"L'annee est bissextile\")\n",
    "else: \n",
    "    print(\"L'année n'est pas bissextile\")\n",
    "\n",
    "\n",
    "\n"
   ]
  }
 ],
 "metadata": {
  "kernelspec": {
   "display_name": "Python 3 (ipykernel)",
   "language": "python",
   "name": "python3"
  },
  "language_info": {
   "codemirror_mode": {
    "name": "ipython",
    "version": 3
   },
   "file_extension": ".py",
   "mimetype": "text/x-python",
   "name": "python",
   "nbconvert_exporter": "python",
   "pygments_lexer": "ipython3",
   "version": "3.11.6"
  }
 },
 "nbformat": 4,
 "nbformat_minor": 2
}
